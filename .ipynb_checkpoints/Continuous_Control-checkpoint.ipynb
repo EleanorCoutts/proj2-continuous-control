{
 "cells": [
  {
   "cell_type": "markdown",
   "metadata": {},
   "source": [
    "# Continuous Control\n",
    "\n",
    "---\n",
    "\n",
    "In this notebook, you will learn how to use the Unity ML-Agents environment for the second project of the [Deep Reinforcement Learning Nanodegree](https://www.udacity.com/course/deep-reinforcement-learning-nanodegree--nd893) program.\n",
    "\n",
    "### 1. Start the Environment\n",
    "\n",
    "We begin by importing the necessary packages.  If the code cell below returns an error, please revisit the project instructions to double-check that you have installed [Unity ML-Agents](https://github.com/Unity-Technologies/ml-agents/blob/master/docs/Installation.md) and [NumPy](http://www.numpy.org/)."
   ]
  },
  {
   "cell_type": "code",
   "execution_count": null,
   "metadata": {},
   "outputs": [],
   "source": [
    "from unityagents import UnityEnvironment\n",
    "import numpy as np"
   ]
  },
  {
   "cell_type": "markdown",
   "metadata": {},
   "source": [
    "Next, we will start the environment!  **_Before running the code cell below_**, change the `file_name` parameter to match the location of the Unity environment that you downloaded.\n",
    "\n",
    "- **Mac**: `\"path/to/Reacher.app\"`\n",
    "- **Windows** (x86): `\"path/to/Reacher_Windows_x86/Reacher.exe\"`\n",
    "- **Windows** (x86_64): `\"path/to/Reacher_Windows_x86_64/Reacher.exe\"`\n",
    "- **Linux** (x86): `\"path/to/Reacher_Linux/Reacher.x86\"`\n",
    "- **Linux** (x86_64): `\"path/to/Reacher_Linux/Reacher.x86_64\"`\n",
    "- **Linux** (x86, headless): `\"path/to/Reacher_Linux_NoVis/Reacher.x86\"`\n",
    "- **Linux** (x86_64, headless): `\"path/to/Reacher_Linux_NoVis/Reacher.x86_64\"`\n",
    "\n",
    "For instance, if you are using a Mac, then you downloaded `Reacher.app`.  If this file is in the same folder as the notebook, then the line below should appear as follows:\n",
    "```\n",
    "env = UnityEnvironment(file_name=\"Reacher.app\")\n",
    "```"
   ]
  },
  {
   "cell_type": "code",
   "execution_count": null,
   "metadata": {},
   "outputs": [],
   "source": [
    "env = UnityEnvironment(file_name='./Reacher_Windows_x86_64/Reacher.exe')\n",
    "#this is the one agent reacher"
   ]
  },
  {
   "cell_type": "markdown",
   "metadata": {},
   "source": [
    "Environments contain **_brains_** which are responsible for deciding the actions of their associated agents. Here we check for the first brain available, and set it as the default brain we will be controlling from Python."
   ]
  },
  {
   "cell_type": "code",
   "execution_count": null,
   "metadata": {},
   "outputs": [],
   "source": [
    "# get the default brain\n",
    "brain_name = env.brain_names[0]\n",
    "brain = env.brains[brain_name]"
   ]
  },
  {
   "cell_type": "markdown",
   "metadata": {},
   "source": [
    "### 2. Examine the State and Action Spaces\n",
    "\n",
    "In this environment, a double-jointed arm can move to target locations. A reward of `+0.1` is provided for each step that the agent's hand is in the goal location. Thus, the goal of your agent is to maintain its position at the target location for as many time steps as possible.\n",
    "\n",
    "The observation space consists of `33` variables corresponding to position, rotation, velocity, and angular velocities of the arm.  Each action is a vector with four numbers, corresponding to torque applicable to two joints.  Every entry in the action vector must be a number between `-1` and `1`.\n",
    "\n",
    "Run the code cell below to print some information about the environment."
   ]
  },
  {
   "cell_type": "code",
   "execution_count": null,
   "metadata": {},
   "outputs": [],
   "source": [
    "# reset the environment\n",
    "env_info = env.reset(train_mode=True)[brain_name]\n",
    "\n",
    "# number of agents\n",
    "num_agents = len(env_info.agents)\n",
    "print('Number of agents:', num_agents)\n",
    "\n",
    "# size of each action\n",
    "action_size = brain.vector_action_space_size\n",
    "print('Size of each action:', action_size)\n",
    "\n",
    "# examine the state space \n",
    "states = env_info.vector_observations\n",
    "state_size = states.shape[1]\n",
    "print('There are {} agents. Each observes a state with length: {}'.format(states.shape[0], state_size))\n",
    "print('The state for the first agent looks like:', states[0])"
   ]
  },
  {
   "cell_type": "markdown",
   "metadata": {},
   "source": [
    "### 3. Take Random Actions in the Environment\n",
    "\n",
    "In the next code cell, you will learn how to use the Python API to control the agent and receive feedback from the environment.\n",
    "\n",
    "Once this cell is executed, you will watch the agent's performance, if it selects an action at random with each time step.  A window should pop up that allows you to observe the agent, as it moves through the environment.  \n",
    "\n",
    "Of course, as part of the project, you'll have to change the code so that the agent is able to use its experience to gradually choose better actions when interacting with the environment!"
   ]
  },
  {
   "cell_type": "code",
   "execution_count": null,
   "metadata": {},
   "outputs": [],
   "source": [
    "#env_info = env.reset(train_mode=False)[brain_name]     # reset the environment    \n",
    "#states = env_info.vector_observations                  # get the current state (for each agent)\n",
    "#scores = np.zeros(num_agents)                          # initialize the score (for each agent)\n",
    "#while True:\n",
    "#    actions = np.random.randn(num_agents, action_size) # select an action (for each agent)\n",
    "#    actions = np.clip(actions, -1, 1)                  # all actions between -1 and 1\n",
    "#    env_info = env.step(actions)[brain_name]           # send all actions to tne environment\n",
    "#    next_states = env_info.vector_observations         # get next state (for each agent)\n",
    "#    rewards = env_info.rewards                         # get reward (for each agent)\n",
    "#    dones = env_info.local_done                        # see if episode finished\n",
    "#    scores += env_info.rewards                         # update the score (for each agent)\n",
    "#    states = next_states                               # roll over states to next time step\n",
    "#    if np.any(dones):                                  # exit loop if episode finished\n",
    "#        break\n",
    "#print('Total score (averaged over agents) this episode: {}'.format(np.mean(scores)))"
   ]
  },
  {
   "cell_type": "markdown",
   "metadata": {},
   "source": [
    "When finished, you can close the environment."
   ]
  },
  {
   "cell_type": "code",
   "execution_count": null,
   "metadata": {},
   "outputs": [],
   "source": [
    "#env.close()"
   ]
  },
  {
   "cell_type": "markdown",
   "metadata": {},
   "source": [
    "### 4. It's Your Turn!\n",
    "\n",
    "Now it's your turn to train your own agent to solve the environment!  When training the environment, set `train_mode=True`, so that the line for resetting the environment looks like the following:\n",
    "```python\n",
    "env_info = env.reset(train_mode=True)[brain_name]\n",
    "```"
   ]
  },
  {
   "cell_type": "code",
   "execution_count": null,
   "metadata": {},
   "outputs": [],
   "source": [
    "import torch\n",
    "import torch.nn as nn\n",
    "import torch.nn.functional as F\n",
    "import torch.optim as optim\n",
    "from collections import deque, namedtuple\n",
    "import copy\n",
    "import random"
   ]
  },
  {
   "cell_type": "markdown",
   "metadata": {},
   "source": [
    "Some code in this section is based on examples found in this blog post https://towardsdatascience.com/deep-deterministic-policy-gradients-explained-2d94655a9b7b"
   ]
  },
  {
   "cell_type": "code",
   "execution_count": null,
   "metadata": {},
   "outputs": [],
   "source": [
    "class actor_network(nn.Module):\n",
    "    def __init__(self, state_size, hidden1_size, hidden2_size, action_size):\n",
    "        super(actor_network, self).__init__()\n",
    "        self.fc1 = nn.Linear(state_size,hidden1_size)\n",
    "        self.fc2 = nn.Linear(hidden1_size,hidden2_size)\n",
    "        self.fc3 = nn.Linear(hidden2_size,action_size)\n",
    "        \n",
    "    def forward(self,state):\n",
    "        x = F.relu(self.fc1(state))\n",
    "        x = F.relu(self.fc2(x))\n",
    "        x = F.tanh(self.fc3(x))\n",
    "        return(x)\n",
    "\n",
    "class critic_network(nn.Module):\n",
    "    def __init__(self, state_size, hidden1_size, hidden2_size, action_size):\n",
    "        super(critic_network, self).__init__()\n",
    "        self.fc1 = nn.Linear(state_size+action_size,hidden1_size)\n",
    "        self.fc2 = nn.Linear(hidden1_size,hidden2_size)\n",
    "        self.fc3 = nn.Linear(hidden2_size,action_size)\n",
    "        \n",
    "    def forward(self,state,action):\n",
    "        x = torch.cat((state,action),dim=1) \n",
    "        #here the action has been included from the 1st layer, unlike DDPG paper which adds it in at 2nd.\n",
    "        x = F.relu(self.fc1(x))\n",
    "        x = F.relu(self.fc2(x))\n",
    "        x = self.fc3(x)\n",
    "        return(x)\n"
   ]
  },
  {
   "cell_type": "code",
   "execution_count": null,
   "metadata": {},
   "outputs": [],
   "source": [
    "class replay_buffer():\n",
    "    def __init__(self,max_size,batch_size):\n",
    "        self.memory = deque(maxlen=int(max_size))\n",
    "        self.batch_size = batch_size\n",
    "        self.experience = namedtuple(\"Experience\", field_names=[\"state\", \"action\", \"reward\", \"next_state\", \"done\"])\n",
    "\n",
    "    \n",
    "    def add(self,state,action,reward,next_state,done):\n",
    "        e = self.experience(state, action, reward, next_state, done)\n",
    "        self.memory.append(e)\n",
    "        #memory 1st index is length, 2nd index is 0:state, 1:action, 2:reward, 3:next_state, 4:done\n",
    "        \n",
    "    def sample(self):\n",
    "        experiences = random.sample(self.memory,k=self.batch_size)\n",
    "        states = torch.from_numpy(np.vstack([e.state for e in experiences if e is not None])).float()\n",
    "        actions = torch.from_numpy(np.vstack([e.action for e in experiences if e is not None])).float()\n",
    "        rewards = torch.from_numpy(np.vstack([e.reward for e in experiences if e is not None])).float()\n",
    "        next_states = torch.from_numpy(np.vstack([e.next_state for e in experiences if e is not None])).float()\n",
    "        dones = torch.from_numpy(np.vstack([e.done for e in experiences if e is not None]).astype(np.uint8)).float()\n",
    "        \n",
    "        return(states,actions,rewards,next_states,dones)\n",
    "    \n",
    "    def __len__(self):\n",
    "        return(len(self.memory))\n",
    "    "
   ]
  },
  {
   "cell_type": "code",
   "execution_count": null,
   "metadata": {},
   "outputs": [],
   "source": [
    "class OU_Noise():\n",
    "    #Generate Ornstein-Uhlenbeck Noise\n",
    "    #mu = 0, sigma constant\n",
    "    def __init__(self,action_size,action_min,action_max,theta,sigma):\n",
    "        self.action_size = action_size\n",
    "        self.theta = theta\n",
    "        self.sigma = sigma\n",
    "        self.action_min, self.action_max = action_min, action_max\n",
    "        self.reset()\n",
    "    def reset(self):\n",
    "        self.x = np.zeros(action_size)\n",
    "    def get_noise(self,action):\n",
    "        dx = -self.theta * self.x + self.sigma * np.random.randn(self.action_size)\n",
    "        self.x = self.x+dx\n",
    "        new_action = np.clip(action + self.x, self.action_min, self.action_max)\n",
    "        return new_action\n",
    "    "
   ]
  },
  {
   "cell_type": "code",
   "execution_count": null,
   "metadata": {},
   "outputs": [],
   "source": [
    "HIDDEN_SIZE = 300\n",
    "MAX_REPLAY_SIZE = 1e6\n",
    "BATCH_SIZE = 32\n",
    "\n",
    "GAMMA=0.99\n",
    "ACTOR_LR = 1e-4\n",
    "CRITIC_LR = 1e-3\n",
    "TAU = 1e-3\n",
    "\n",
    "#Ornstein-Uhlenbeck Noise\n",
    "OU_theta = 0.15\n",
    "OU_sigma = 0.2\n",
    "\n",
    "Num_episodes = 50"
   ]
  },
  {
   "cell_type": "code",
   "execution_count": null,
   "metadata": {},
   "outputs": [],
   "source": [
    "class Agent():\n",
    "    def __init__(self):\n",
    "        self.critic_local = critic_network(state_size,HIDDEN_SIZE,HIDDEN_SIZE,action_size)\n",
    "        self.critic_target = copy.deepcopy(self.critic_local)\n",
    "        self.actor_local = actor_network(state_size,HIDDEN_SIZE,HIDDEN_SIZE,action_size)\n",
    "        self.actor_target = copy.deepcopy(self.actor_local)\n",
    "\n",
    "        self.replay_memory = replay_buffer(MAX_REPLAY_SIZE,BATCH_SIZE)\n",
    "        \n",
    "        self.actor_optim = optim.Adam(self.actor_local.parameters(), lr=ACTOR_LR)\n",
    "        self.critic_optim = optim.Adam(self.critic_local.parameters(), lr=CRITIC_LR)\n",
    "    \n",
    "    def get_actions(self,states):\n",
    "        s = torch.from_numpy(states).float()\n",
    "        a = self.actor_local(s).detach().numpy()\n",
    "        return(a)\n",
    "    \n",
    "    def step(self,states,actions,rewards,next_states,dones):\n",
    "        #add experience to memory\n",
    "        self.replay_memory.add(states,actions,rewards,next_states,dones)\n",
    "        \n",
    "        #If enough memory, take a random sample from the memory, and learn from it\n",
    "        if len(self.replay_memory) >= BATCH_SIZE:\n",
    "            experience_batch = self.replay_memory.sample()\n",
    "            self.learn(experience_batch)\n",
    "            \n",
    "    def learn(self,experience_batch):\n",
    "        states,actions,rewards,next_states,dones = experience_batch\n",
    "        \n",
    "        states = torch.FloatTensor(states)\n",
    "        actions = torch.FloatTensor(actions)\n",
    "        rewards = torch.FloatTensor(rewards)\n",
    "        next_stated = torch.FloatTensor(next_states)\n",
    "        dones = torch.FloatTensor(dones)\n",
    "        \n",
    "        Q_vals = self.critic_local(state=states,action=actions)\n",
    "        next_actions = self.actor_target(next_states)\n",
    "        next_Q = self.critic_target(next_states,next_actions)\n",
    "        Q_target = rewards + GAMMA * next_Q\n",
    "        \n",
    "        #update local critic network\n",
    "        critic_loss = F.mse_loss(Q_vals, Q_target)\n",
    "        self.critic_optim.zero_grad()\n",
    "        critic_loss.backward()\n",
    "        self.critic_optim.step()\n",
    "        \n",
    "        #update local actor network\n",
    "        actor_loss = -self.critic_local(states, self.actor_local.forward(states)).mean()\n",
    "        self.actor_optim.zero_grad()\n",
    "        actor_loss.backward()\n",
    "        self.actor_optim.step()\n",
    "        \n",
    "        #update target networks\n",
    "        self.actor_target = self.soft_update(self.actor_local, self.actor_target)\n",
    "        self.critic_target = self.soft_update(self.critic_local, self.critic_target)\n",
    "        \n",
    "    def soft_update(self,local,target):\n",
    "        for name, param in target.state_dict().items():\n",
    "            l, t = local.state_dict()[name], target.state_dict()[name] #local,target\n",
    "            new = l * TAU + t * (1.0-TAU)\n",
    "            target.state_dict()[name].copy_(new)\n",
    "        return(target)\n",
    "        "
   ]
  },
  {
   "cell_type": "code",
   "execution_count": null,
   "metadata": {},
   "outputs": [],
   "source": [
    "#Train"
   ]
  },
  {
   "cell_type": "code",
   "execution_count": null,
   "metadata": {},
   "outputs": [],
   "source": [
    "agent = Agent()\n",
    "noise = OU_Noise(action_size,-1,+1,OU_theta,OU_sigma)"
   ]
  },
  {
   "cell_type": "code",
   "execution_count": null,
   "metadata": {},
   "outputs": [],
   "source": [
    "scores_history = []\n",
    "\n",
    "for episode in range(Num_episodes):\n",
    "    noise.reset()\n",
    "    env_info = env.reset(train_mode=False)[brain_name]     # reset the environment    \n",
    "    states = env_info.vector_observations                  # get the current state (for each agent)\n",
    "    scores = np.zeros(num_agents)\n",
    "    while True:\n",
    "        actions = agent.get_actions(states)\n",
    "        actions = noise.get_noise(actions) #This adds noise to actions and also clips values between -1 and 1\n",
    "        env_info = env.step(actions)[brain_name]           # send all actions to the environment\n",
    "        next_states = env_info.vector_observations         # get next state (for each agent)\n",
    "        rewards = env_info.rewards                         # get reward (for each agent)\n",
    "        dones = env_info.local_done                        # see if episode finished\n",
    "        scores += env_info.rewards                         # update the score (for each agent)\n",
    "        \n",
    "        agent.step(states,actions,rewards,next_states,dones)    \n",
    "        \n",
    "        states = next_states                               # roll over states to next time step\n",
    "        if np.any(dones):                                  # exit loop if episode finished\n",
    "            break\n",
    "    scores_history.append(scores)\n",
    "    print('episode = %s, score = %s'%(episode+1,scores))"
   ]
  },
  {
   "cell_type": "code",
   "execution_count": null,
   "metadata": {},
   "outputs": [],
   "source": []
  }
 ],
 "metadata": {
  "kernelspec": {
   "display_name": "Python 3",
   "language": "python",
   "name": "python3"
  },
  "language_info": {
   "codemirror_mode": {
    "name": "ipython",
    "version": 3
   },
   "file_extension": ".py",
   "mimetype": "text/x-python",
   "name": "python",
   "nbconvert_exporter": "python",
   "pygments_lexer": "ipython3",
   "version": "3.6.10"
  }
 },
 "nbformat": 4,
 "nbformat_minor": 2
}
